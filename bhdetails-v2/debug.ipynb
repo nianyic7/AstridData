{
 "cells": [
  {
   "cell_type": "code",
   "execution_count": 3,
   "metadata": {},
   "outputs": [],
   "source": [
    "import numpy as np\n",
    "import matplotlib.pyplot as plt\n",
    "from bigfile import BigFile\n",
    "from natsort import natsorted\n",
    "import glob\n",
    "\n"
   ]
  },
  {
   "cell_type": "markdown",
   "metadata": {},
   "source": [
    "## 11/30/2024"
   ]
  },
  {
   "cell_type": "code",
   "execution_count": null,
   "metadata": {},
   "outputs": [],
   "source": []
  },
  {
   "cell_type": "code",
   "execution_count": 4,
   "metadata": {},
   "outputs": [
    {
     "name": "stdout",
     "output_type": "stream",
     "text": [
      "760\n",
      "797\n",
      "808\n"
     ]
    }
   ],
   "source": [
    "snaplist = [760,797,808]\n",
    "fileroot=\"/home1/08942/nianyic/scratch3/Astrid/bhdetails/\"\n",
    "for snap in snaplist:\n",
    "    ifilelist = natsorted(glob.glob(f\"{fileroot}/BlackholeDetails-R{snap}*\"))\n",
    "    print(snap)\n",
    "    for i, file in enumerate(ifilelist):\n",
    "        bf = BigFile(file)\n",
    "        redshift = bf[\"z\"][:]\n",
    "        zmin, zmax = redshift.min(), redshift.max()\n",
    "        if np.isnan(zmin):\n",
    "            print(file)\n",
    "        elif np.isnan(zmax):\n",
    "            print(file)\n",
    "        \n",
    "    \n"
   ]
  },
  {
   "cell_type": "code",
   "execution_count": null,
   "metadata": {},
   "outputs": [],
   "source": []
  },
  {
   "cell_type": "code",
   "execution_count": 2,
   "metadata": {},
   "outputs": [
    {
     "name": "stdout",
     "output_type": "stream",
     "text": [
      "658\n",
      "660\n",
      "665\n",
      "670\n",
      "674\n"
     ]
    },
    {
     "name": "stderr",
     "output_type": "stream",
     "text": [
      "\n",
      "KeyboardInterrupt\n",
      "\n"
     ]
    }
   ],
   "source": [
    "snaplist = [658, 660, 665, 670, 674, 678, 683, 688, 694, 695, 697, 698, 703, 706, 710, 714, 716, 720, 723, 725, 728, 730]\n",
    "fileroot=\"/home1/08942/nianyic/scratch3/Astrid/bhdetails/\"\n",
    "for snap in snaplist:\n",
    "    ifilelist = natsorted(glob.glob(f\"{fileroot}/BlackholeDetails-R{snap}*\"))\n",
    "    print(snap)\n",
    "    for i, file in enumerate(ifilelist):\n",
    "        bf = BigFile(file)\n",
    "        redshift = bf[\"z\"][:]\n",
    "        zmin, zmax = redshift.min(), redshift.max()\n",
    "        if np.isnan(zmin):\n",
    "            print(file)\n",
    "        elif np.isnan(zmax):\n",
    "            print(file)\n",
    "        \n",
    "    \n"
   ]
  },
  {
   "cell_type": "code",
   "execution_count": null,
   "metadata": {},
   "outputs": [],
   "source": []
  },
  {
   "cell_type": "code",
   "execution_count": null,
   "metadata": {},
   "outputs": [],
   "source": []
  },
  {
   "cell_type": "code",
   "execution_count": 3,
   "metadata": {},
   "outputs": [],
   "source": [
    "SEL_COL = ['BHID','BHMass','Mdot','Density','timebin','Encounter','MinPos',\\\n",
    "             'MinPot','Entropy','GasVel','acMom','acMass','acBHMass',\\\n",
    "             'Fdbk','SPHID','SwallowID','CountProgs','Swallowed',\\\n",
    "             'BHpos','srDensity','srParticles','srVel','srDisp',\\\n",
    "             'DFAccel','DragAccel','GravAccel','BHvel','Mtrack','Mdyn',\\\n",
    "             'KineticFdbkEnergy','NumDM','V1sumDM','V2sumDM','MgasEnc','KEflag','z']\n",
    "\n",
    "\n",
    "class BHType:\n",
    "    def __init__(self, name_sel=None):\n",
    "        self.name_all = ('size','BHID','BHMass','Mdot','Density','timebin','Encounter','MinPos',\\\n",
    "             'MinPot','Entropy','GasVel','acMom','acMass','acBHMass',\\\n",
    "             'Fdbk','SPHID','SwallowID','CountProgs','Swallowed',\\\n",
    "             'BHpos','srDensity','srParticles','srVel','srDisp',\\\n",
    "             'DFAccel','DragAccel','GravAccel','BHvel','Mtrack','Mdyn',\\\n",
    "             'KineticFdbkEnergy','NumDM','V1sumDM','V2sumDM','MgasEnc','KEflag','z','size2')\n",
    "        self.dtype_all = ('i','q','d','d','d','i','i','3d',\\\n",
    "            'd','d','3d','3d','d','d',\\\n",
    "            'd','q','q','i','i',\\\n",
    "            '3d','d','d','3d','d',\\\n",
    "            '3d','3d','3d','3d','d','d',\\\n",
    "            'd','d','3d','d','d','i','d','i')\n",
    "\n",
    "        if name_sel is None:\n",
    "            name_sel = self.name_all\n",
    "        self.name_sel = name_sel\n",
    "        self.name2type = {name: dtype for name, dtype in zip(self.name_all, self.dtype_all)}\n",
    "\n",
    "\n",
    "    @property\n",
    "    def TypeAll(self):\n",
    "        np_type = np.dtype({'names':self.name_all, 'formats':self.dtype_all})\n",
    "        return np_type\n",
    "    @property\n",
    "    def TypeSel(self):\n",
    "        name_sel = [name for name in self.name_all if name in name_sel]\n",
    "        dtype_sel = [dtype for name, dtype in zip(self.name_all, self.dtype_all) if name in name_sel]\n",
    "        np_type = np.dtype({'names':name_sel, 'formats':dtype_sel})\n",
    "        return np_type"
   ]
  },
  {
   "cell_type": "code",
   "execution_count": 4,
   "metadata": {},
   "outputs": [],
   "source": [
    "\n",
    "def read_binary_file(file):\n",
    "    dt = BHTYPE.TypeAll\n",
    "    dtype = BHTYPE.dtype_all\n",
    "    #-----------------------------------------------------------\n",
    "    struct_fmt = ''.join(list(dtype))\n",
    "    struct_len = struct.calcsize(struct_fmt)\n",
    "    results = np.fromfile(file, dtype=dt, count=-1)\n",
    "\n",
    "    results['z'] = 1./results['z'] - 1\n",
    "    print(\"rank %d: read %d BHs\"%(rank, len(results)))\n",
    "    assert len(results) == Length[i], \"number of BHs read in is not consistent with pre-determined size!\"\n",
    "    print(f\"Total memory occupied: {results.nbytes/1e9} GBs\")\n",
    "    return results"
   ]
  },
  {
   "cell_type": "code",
   "execution_count": 5,
   "metadata": {},
   "outputs": [],
   "source": [
    "def io_binary_file(ifile, ofile):\n",
    "    dt = BHTYPE.TypeAll\n",
    "    dtype = BHTYPE.dtype_all\n",
    "    #-----------------------------------------------------------\n",
    "    data = np.zeros(1, dtype=BHTYPE.TypeAll)\n",
    "    nsingle = data.nbytes\n",
    "    results = np.fromfile(ifile, dtype=dt, count=-1)\n",
    "    hastrouble = 0\n",
    "\n",
    "    mask =  (results[\"size\"] != nsingle - 8) | (results[\"size2\"] != nsingle - 8)\n",
    "    mask = mask.nonzero()[0]\n",
    "    if len(mask > 0):\n",
    "        hastrouble = 1\n",
    "        istart = mask[0]\n",
    "        ntrouble = sum(mask)\n",
    "        print(f\"starting of trouble {istart}, total troubles {ntrouble}\")\n",
    "        offset = istart * nsingle\n",
    "        # search for restart point\n",
    "        for newoff in range(offset + 4, offset + nsingle):\n",
    "            size1 = np.fromfile(ifile, dtype='i', count=1, offset=newoff)\n",
    "            size2 = np.fromfile(ifile, dtype='i', count=1, offset=newoff+nsingle-4)\n",
    "            if (size1 == nsingle - 8) & (size2 == nsingle - 8):\n",
    "                print(f\"resetting offset from {offset} to {newoff}\")\n",
    "                break\n",
    "        next_data = np.fromfile(ifile, dtype=dt, count=1, offset=newoff)\n",
    "        assert next_data[\"size\"] == nsingle - 8, f\"mismatch of size1 in file {ifile}, {next_data}\"\n",
    "        assert next_data[\"size2\"] == nsingle - 8, f\"mismatch of size2 in file {ifile}, {next_data}\"\n",
    "        results = np.fromfile(ifile, dtype=dt, count=-1, offset=newoff)"
   ]
  },
  {
   "cell_type": "code",
   "execution_count": 13,
   "metadata": {},
   "outputs": [
    {
     "name": "stdout",
     "output_type": "stream",
     "text": [
      "4096\n",
      "15858\n",
      "0.7198807677454985\n",
      "starting of trouble 15858, total troubles 27613\n",
      "resetting offset from 6914088 to 6914484\n"
     ]
    }
   ],
   "source": [
    "BHTYPE = BHType(SEL_COL)\n",
    "data = np.zeros(1, dtype=BHTYPE.TypeAll)\n",
    "nsingle = data.nbytes\n",
    "\n",
    "binary_flist = sorted(glob.glob(\"/home1/08942/nianyic/ASTRID3/BlackholeDetails/BlackholeDetails-R695.2/*\"))\n",
    "print(len(binary_flist))\n",
    "dt = BHTYPE.TypeAll\n",
    "dtype = BHTYPE.dtype_all\n",
    "\n",
    "\n",
    "i = 0\n",
    "\n",
    "bfile = binary_flist[i]\n",
    "results = np.fromfile(bfile, dtype=dt, count=-1)\n",
    "sizelist = results[\"size\"]\n",
    "mask = sizelist != 428\n",
    "\n",
    "\n",
    "prob = results[mask]\n",
    "mask = mask.nonzero()[0]\n",
    "\n",
    "print(mask[0])\n",
    "\n",
    "ascale = results[mask[0] - 2][\"z\"]\n",
    "\n",
    "print(ascale)\n",
    "\n",
    "\n",
    "istart = mask[0]\n",
    "ntrouble = len(mask)\n",
    "print(f\"starting of trouble {istart}, total troubles {ntrouble}\")\n",
    "offset = istart * nsingle\n",
    "\n",
    "# search for restart point\n",
    "for newoff in range(offset + 4, offset + nsingle):\n",
    "    size1 = np.fromfile(bfile, dtype='i', count=1, offset=newoff)\n",
    "    size2 = np.fromfile(bfile, dtype='i', count=1, offset=newoff+nsingle-4)\n",
    "    if (size1 == nsingle - 8) & (size2 == nsingle - 8):\n",
    "        print(f\"resetting offset from {offset} to {newoff}\")\n",
    "        break"
   ]
  },
  {
   "cell_type": "code",
   "execution_count": null,
   "metadata": {},
   "outputs": [],
   "source": []
  },
  {
   "cell_type": "code",
   "execution_count": null,
   "metadata": {},
   "outputs": [],
   "source": []
  },
  {
   "cell_type": "code",
   "execution_count": null,
   "metadata": {},
   "outputs": [],
   "source": []
  },
  {
   "cell_type": "code",
   "execution_count": 11,
   "metadata": {},
   "outputs": [
    {
     "name": "stdout",
     "output_type": "stream",
     "text": [
      "[0.3310427  0.3310427  0.3310427  ... 0.33018296 0.33018296 0.33018296]\n"
     ]
    }
   ],
   "source": []
  },
  {
   "cell_type": "code",
   "execution_count": null,
   "metadata": {},
   "outputs": [],
   "source": []
  },
  {
   "cell_type": "code",
   "execution_count": null,
   "metadata": {},
   "outputs": [],
   "source": []
  },
  {
   "cell_type": "code",
   "execution_count": null,
   "metadata": {},
   "outputs": [],
   "source": []
  },
  {
   "cell_type": "code",
   "execution_count": null,
   "metadata": {},
   "outputs": [],
   "source": []
  },
  {
   "cell_type": "code",
   "execution_count": null,
   "metadata": {},
   "outputs": [],
   "source": [
    "snap = 599\n",
    "file = \"/hildafs/datasets/Asterix/BH_details_bigfile2/BH-Details-R%03d\"%snap\n",
    "bf = BigFile(file)\n",
    "N = 100000\n",
    "ids = bf[\"BHID\"][:]\n",
    "reshift = bf[\"z\"][:]\n"
   ]
  },
  {
   "cell_type": "code",
   "execution_count": null,
   "metadata": {},
   "outputs": [],
   "source": []
  },
  {
   "cell_type": "code",
   "execution_count": null,
   "metadata": {},
   "outputs": [],
   "source": []
  },
  {
   "cell_type": "code",
   "execution_count": null,
   "metadata": {},
   "outputs": [],
   "source": [
    "idsset = np.unique(ids)\n",
    "print(\"Number of unique ids: \", len(idsset))\n",
    "\n",
    "zset = np.unique(reshift)"
   ]
  },
  {
   "cell_type": "code",
   "execution_count": null,
   "metadata": {},
   "outputs": [],
   "source": [
    "plt.hist(redshift, bins = 20)\n",
    "plt.show()"
   ]
  },
  {
   "cell_type": "code",
   "execution_count": 2,
   "metadata": {},
   "outputs": [],
   "source": [
    "snap = 577\n",
    "file = \"/hildafs/datasets/Asterix/BH_details_bigfile2/BH-Details-R%03d\"%snap\n",
    "bf = BigFile(file)\n",
    "N = 100000\n",
    "gasvel = bf[\"GasVel\"][:]\n",
    "# reshift = bf[\"z\"][:]\n"
   ]
  },
  {
   "cell_type": "code",
   "execution_count": null,
   "metadata": {},
   "outputs": [],
   "source": []
  }
 ],
 "metadata": {
  "kernelspec": {
   "display_name": "default",
   "language": "python",
   "name": "default"
  },
  "language_info": {
   "codemirror_mode": {
    "name": "ipython",
    "version": 3
   },
   "file_extension": ".py",
   "mimetype": "text/x-python",
   "name": "python",
   "nbconvert_exporter": "python",
   "pygments_lexer": "ipython3",
   "version": "3.9.12"
  }
 },
 "nbformat": 4,
 "nbformat_minor": 4
}

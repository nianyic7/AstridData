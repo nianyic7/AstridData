{
 "cells": [
  {
   "cell_type": "code",
   "execution_count": 1,
   "metadata": {},
   "outputs": [],
   "source": [
    "import numpy as np\n",
    "import matplotlib.pyplot as plt\n",
    "from bigfile import BigFile\n"
   ]
  },
  {
   "cell_type": "code",
   "execution_count": null,
   "metadata": {},
   "outputs": [],
   "source": [
    "snap = 599\n",
    "file = \"/hildafs/datasets/Asterix/BH_details_bigfile2/BH-Details-R%03d\"%snap\n",
    "bf = BigFile(file)\n",
    "N = 100000\n",
    "ids = bf[\"BHID\"][:]\n",
    "reshift = bf[\"z\"][:]\n"
   ]
  },
  {
   "cell_type": "code",
   "execution_count": null,
   "metadata": {},
   "outputs": [],
   "source": [
    "idsset = np.unique(ids)\n",
    "print(\"Number of unique ids: \", len(idsset))\n",
    "\n",
    "zset = np.unique(reshift)"
   ]
  },
  {
   "cell_type": "code",
   "execution_count": null,
   "metadata": {},
   "outputs": [],
   "source": [
    "plt.hist(redshift, bins = 20)\n",
    "plt.show()"
   ]
  },
  {
   "cell_type": "code",
   "execution_count": 2,
   "metadata": {},
   "outputs": [],
   "source": [
    "snap = 577\n",
    "file = \"/hildafs/datasets/Asterix/BH_details_bigfile2/BH-Details-R%03d\"%snap\n",
    "bf = BigFile(file)\n",
    "N = 100000\n",
    "gasvel = bf[\"GasVel\"][:]\n",
    "# reshift = bf[\"z\"][:]\n"
   ]
  },
  {
   "cell_type": "code",
   "execution_count": null,
   "metadata": {},
   "outputs": [],
   "source": []
  }
 ],
 "metadata": {
  "kernelspec": {
   "display_name": "default",
   "language": "python",
   "name": "default"
  },
  "language_info": {
   "codemirror_mode": {
    "name": "ipython",
    "version": 3
   },
   "file_extension": ".py",
   "mimetype": "text/x-python",
   "name": "python",
   "nbconvert_exporter": "python",
   "pygments_lexer": "ipython3",
   "version": "3.8.16"
  }
 },
 "nbformat": 4,
 "nbformat_minor": 4
}

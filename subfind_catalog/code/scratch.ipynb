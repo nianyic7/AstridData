{
 "cells": [
  {
   "cell_type": "code",
   "execution_count": 1,
   "id": "251f8a52-4c46-4c13-8fe4-edd8157850d6",
   "metadata": {},
   "outputs": [],
   "source": [
    "import numpy as np\n",
    "from bigfile import BigFile,FileMPI\n",
    "import h5py\n",
    "import sys,os\n",
    "import glob\n",
    "import argparse"
   ]
  },
  {
   "cell_type": "code",
   "execution_count": null,
   "id": "825cabf0-5471-4642-a7c1-c8693e1a2331",
   "metadata": {},
   "outputs": [],
   "source": []
  }
 ],
 "metadata": {
  "kernelspec": {
   "display_name": "default",
   "language": "python",
   "name": "default"
  },
  "language_info": {
   "codemirror_mode": {
    "name": "ipython",
    "version": 3
   },
   "file_extension": ".py",
   "mimetype": "text/x-python",
   "name": "python",
   "nbconvert_exporter": "python",
   "pygments_lexer": "ipython3",
   "version": "3.9.12"
  }
 },
 "nbformat": 4,
 "nbformat_minor": 5
}
